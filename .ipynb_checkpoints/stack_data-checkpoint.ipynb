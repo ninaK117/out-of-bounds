{
 "cells": [
  {
   "cell_type": "code",
   "execution_count": 23,
   "metadata": {
    "scrolled": true
   },
   "outputs": [],
   "source": [
    "import pandas as pd\n",
    "from bs4 import BeautifulSoup\n",
    "\n",
    "\n",
    "# SOURCES:\n",
    "# https://stackoverflow.com/questions/53189494/apply-beautifulsoup-function-to-pandas-dataframe\n",
    "# https://stackoverflow.com/questions/20297317/python-dataframe-pandas-drop-column-using-int\n",
    "# Data Cleaning Notebook from Week 2 \n",
    "# https://stackoverflow.com/questions/17383094/how-can-i-map-true-false-to-1-0-in-a-pandas-dataframe\n",
    "# https://stackoverflow.com/questions/39885359/beautifulsoup-decompose\n",
    "\n",
    "def has_tag(df, cols, tag):\n",
    "    df_code = pd.DataFrame() \n",
    "    \n",
    "    for c in cols:\n",
    "        code = df[c].apply(lambda text: BeautifulSoup(text, 'html.parser').find_all(tag))\n",
    "        col_name = c + '_HAS_CODE'\n",
    "        \n",
    "        code = (code.str.len() > 0).astype(int).rename(col_name).to_frame()\n",
    "        df_code = pd.concat([df_code,code], axis=1)\n",
    "\n",
    "    return df_code\n",
    "\n",
    "\n",
    "def decompose_html(text, tag):   \n",
    "    soup = BeautifulSoup(text, 'html.parser')\n",
    "    code_tags = soup.findAll(tag)\n",
    "\n",
    "    for code in code_tags:\n",
    "        code.decompose()\n",
    "    \n",
    "    return soup\n",
    "\n",
    "\n",
    "def alter_col_text(df, cols, tag):   \n",
    "    for c in cols:\n",
    "        df[c] = df[c].apply(lambda text: decompose_html(text,tag)) \n",
    "    return df\n",
    "\n",
    "\n",
    "df = pd.read_csv('stack_data.csv',header=0)\n",
    "df.drop(df.columns[2], axis=1, inplace=True)\n",
    "df.fillna('', inplace=True)\n",
    "\n",
    "cols = ['QUESTION_BODY','ACCEPTED_ANSWER_BODY']\n",
    "tag = 'code'\n",
    "\n",
    "\n",
    "df = pd.concat([df,has_tag(df, cols, tag)], axis=1)\n",
    "\n",
    "df = alter_col_text(df, ['QUESTION_BODY','ACCEPTED_ANSWER_BODY'],'code')\n",
    "\n",
    "df.to_csv('out.csv')\n",
    "\n"
   ]
  },
  {
   "cell_type": "code",
   "execution_count": null,
   "metadata": {},
   "outputs": [],
   "source": []
  },
  {
   "cell_type": "code",
   "execution_count": null,
   "metadata": {},
   "outputs": [],
   "source": []
  }
 ],
 "metadata": {
  "kernelspec": {
   "display_name": "Python 3",
   "language": "python",
   "name": "python3"
  },
  "language_info": {
   "codemirror_mode": {
    "name": "ipython",
    "version": 3
   },
   "file_extension": ".py",
   "mimetype": "text/x-python",
   "name": "python",
   "nbconvert_exporter": "python",
   "pygments_lexer": "ipython3",
   "version": "3.8.3"
  }
 },
 "nbformat": 4,
 "nbformat_minor": 4
}
