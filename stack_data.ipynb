{
 "cells": [
  {
   "cell_type": "code",
   "execution_count": 7,
   "metadata": {
    "scrolled": true
   },
   "outputs": [],
   "source": [
    "import pandas as pd\n",
    "from bs4 import BeautifulSoup\n",
    "from scipy import stats\n",
    "\n",
    "# SOURCES:\n",
    "# https://stackoverflow.com/questions/53189494/apply-beautifulsoup-function-to-pandas-dataframe\n",
    "# https://stackoverflow.com/questions/20297317/python-dataframe-pandas-drop-column-using-int\n",
    "# Data Cleaning Notebook from Week 2 \n",
    "# https://stackoverflow.com/questions/17383094/how-can-i-map-true-false-to-1-0-in-a-pandas-dataframe\n",
    "# https://stackoverflow.com/questions/39885359/beautifulsoup-decompose\n",
    "\n",
    "def has_tag(df, cols, tag):\n",
    "    df_code = pd.DataFrame() \n",
    "    \n",
    "    for c in cols:\n",
    "        code = df[c].apply(lambda text: BeautifulSoup(text, 'html.parser').find_all(tag))\n",
    "        col_name = c + '_HAS_CODE'\n",
    "        \n",
    "        code = (code.str.len() > 0).astype(int).rename(col_name).to_frame()\n",
    "        df_code = pd.concat([df_code,code], axis=1)\n",
    "\n",
    "    return df_code\n",
    "\n",
    "\n",
    "def decompose_html(text, tag):   \n",
    "    soup = BeautifulSoup(text, 'html.parser')\n",
    "    code_tags = soup.findAll(tag)\n",
    "\n",
    "    for code in code_tags:\n",
    "        code.decompose()\n",
    "    \n",
    "    return soup\n",
    "\n",
    "\n",
    "def alter_col_text(df, cols, tag):   \n",
    "    for c in cols:\n",
    "        df[c] = df[c].apply(lambda text: decompose_html(text,tag)) \n",
    "    return df\n",
    "\n",
    "\n",
    "df = pd.read_csv('data.csv',header=0)\n",
    "df.fillna('', inplace=True)\n",
    "\n",
    "cols = ['QUESTION_TITLE',\n",
    "        'QUESTION_BODY',\n",
    "        'ACCEPTED_ANSWER_BODY',\n",
    "       'QUESTION_FAVORITES',\n",
    "       'QUESTION_SCORE',\n",
    "       'QUESTION_VIEWS',\n",
    "       'ANSWER_FAVORITES',\n",
    "       'ANSWER_SCORE',\n",
    "       'ANSWER_VIEWS']\n",
    "\n",
    "tag = 'code'\n",
    "\n",
    "body_cols = ['QUESTION_BODY','ACCEPTED_ANSWER_BODY']\n",
    "df = pd.concat([df,has_tag(df, body_cols, tag)], axis=1)\n",
    "\n",
    "df = alter_col_text(df, body_cols,'code')\n",
    "\n",
    "#df.to_csv('out.csv')"
   ]
  },
  {
   "cell_type": "code",
   "execution_count": 1,
   "metadata": {},
   "outputs": [
    {
     "ename": "NameError",
     "evalue": "name 'pd' is not defined",
     "output_type": "error",
     "traceback": [
      "\u001b[0;31m---------------------------------------------------------------------------\u001b[0m",
      "\u001b[0;31mNameError\u001b[0m                                 Traceback (most recent call last)",
      "\u001b[0;32m<ipython-input-1-d0a061a2622a>\u001b[0m in \u001b[0;36m<module>\u001b[0;34m\u001b[0m\n\u001b[1;32m     32\u001b[0m \u001b[0;31m# print('After normalization')\u001b[0m\u001b[0;34m\u001b[0m\u001b[0;34m\u001b[0m\u001b[0;34m\u001b[0m\u001b[0m\n\u001b[1;32m     33\u001b[0m \u001b[0;31m# print(df.head())\u001b[0m\u001b[0;34m\u001b[0m\u001b[0;34m\u001b[0m\u001b[0;34m\u001b[0m\u001b[0m\n\u001b[0;32m---> 34\u001b[0;31m \u001b[0mdf\u001b[0m \u001b[0;34m=\u001b[0m \u001b[0mpd\u001b[0m\u001b[0;34m.\u001b[0m\u001b[0mread_csv\u001b[0m\u001b[0;34m(\u001b[0m\u001b[0;34m'data.csv'\u001b[0m\u001b[0;34m,\u001b[0m\u001b[0mheader\u001b[0m\u001b[0;34m=\u001b[0m\u001b[0;36m0\u001b[0m\u001b[0;34m)\u001b[0m\u001b[0;34m\u001b[0m\u001b[0;34m\u001b[0m\u001b[0m\n\u001b[0m\u001b[1;32m     35\u001b[0m \u001b[0mdf\u001b[0m\u001b[0;34m.\u001b[0m\u001b[0mhead\u001b[0m\u001b[0;34m(\u001b[0m\u001b[0;34m)\u001b[0m\u001b[0;34m\u001b[0m\u001b[0;34m\u001b[0m\u001b[0m\n\u001b[1;32m     36\u001b[0m \u001b[0;34m\u001b[0m\u001b[0m\n",
      "\u001b[0;31mNameError\u001b[0m: name 'pd' is not defined"
     ]
    }
   ],
   "source": [
    "def fill_nan_columns(df, columns):\n",
    "    for column in columns:\n",
    "        df[column] = df[column].fillna(0)\n",
    "        \n",
    "        \n",
    "def normalize_columns(df, columns):\n",
    "    for column in columns:\n",
    "        df[column] = (df[column] - df[column].min()) / (df[column].max() - df[column].min())\n",
    "        \n",
    "\n",
    "def remove_outliers(df, columns):\n",
    "    for column in columns:\n",
    "        lower = df[column].quantile(0.05)\n",
    "        upper = df[column].quantile(0.95)\n",
    "        df = df[df[column] >= lower]\n",
    "        df = df[df[column] <= upper]\n",
    "    return df\n",
    "        \n",
    "# fill_nan_columns(df, quant_cols)\n",
    "\n",
    "# df = remove_outliers(df, quant_cols)\n",
    "\n",
    "# # comment out prints in future steps\n",
    "\n",
    "# print('Before normalization')\n",
    "# print(df.head())\n",
    "\n",
    "# # Normalize all entries to be between 0 and 1\n",
    "# normalize_columns(df, quant_cols)\n",
    "# fill_nan_columns(df, quant_cols)\n",
    "\n",
    "# print('After normalization')\n",
    "# print(df.head())\n",
    "df = pd.read_csv('data.csv',header=0)\n",
    "df.head()\n",
    "\n"
   ]
  },
  {
   "cell_type": "code",
   "execution_count": null,
   "metadata": {},
   "outputs": [],
   "source": []
  }
 ],
 "metadata": {
  "kernelspec": {
   "display_name": "Python 3",
   "language": "python",
   "name": "python3"
  },
  "language_info": {
   "codemirror_mode": {
    "name": "ipython",
    "version": 3
   },
   "file_extension": ".py",
   "mimetype": "text/x-python",
   "name": "python",
   "nbconvert_exporter": "python",
   "pygments_lexer": "ipython3",
   "version": "3.8.3"
  }
 },
 "nbformat": 4,
 "nbformat_minor": 4
}
